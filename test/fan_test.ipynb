{
 "cells": [
  {
   "cell_type": "markdown",
   "metadata": {},
   "source": [
    "# Fan Testing with wyze_sdk"
   ]
  },
  {
   "cell_type": "code",
   "execution_count": 30,
   "metadata": {},
   "outputs": [],
   "source": [
    "import os\n",
    "import time\n",
    "from wyze_sdk import Client\n",
    "from wyze_sdk.errors import WyzeApiError\n",
    "from wyze_sdk.api.devices import ThermostatsClient \n",
    "from wyze_sdk.models.devices import ThermostatFanMode"
   ]
  },
  {
   "cell_type": "markdown",
   "metadata": {},
   "source": [
    "### Client Connection Setup to Wyze API\n",
    "This is assuming access/refresh tokens have already been generated"
   ]
  },
  {
   "cell_type": "code",
   "execution_count": null,
   "metadata": {},
   "outputs": [],
   "source": [
    "client = Client(token=os.getenv('WYZE_ACCESS_TOKEN'))"
   ]
  },
  {
   "cell_type": "markdown",
   "metadata": {},
   "source": [
    "### Getting Devices and their Properties"
   ]
  },
  {
   "cell_type": "code",
   "execution_count": null,
   "metadata": {},
   "outputs": [],
   "source": [
    "try:\n",
    "    response = client.devices_list()\n",
    "    for device in client.devices_list():\n",
    "        print(f\"mac: {device.mac}\")\n",
    "        print(f\"nickname: {device.nickname}\")\n",
    "        print(f\"is_online: {device.is_online}\")\n",
    "        print(f\"product model: {device.product.model}\")\n",
    "        print(f\"{device}\")\n",
    "except WyzeApiError as e:\n",
    "    print(f\"Got an error: {e}\")"
   ]
  },
  {
   "cell_type": "markdown",
   "metadata": {},
   "source": [
    "Create env list of devices as dict(device.nickname=device.mac) for all devices. Devices can then be referred to by their nicknames (without spaces) "
   ]
  },
  {
   "cell_type": "code",
   "execution_count": 8,
   "metadata": {},
   "outputs": [
    {
     "name": "stdout",
     "output_type": "stream",
     "text": [
      "{'WyzeCam': '2CAA8E1C8608', 'BackPorchCamera': '2CAA8EE7AE25', 'LivingRoom': 'CO_EA1_31304635103637394a416a4b'}\n"
     ]
    }
   ],
   "source": [
    "dlist = dict()\n",
    "for device in client.devices_list():\n",
    "    dlist[device.nickname.replace(\" \", \"\")] = device.mac\n",
    "print(dlist)\n"
   ]
  },
  {
   "cell_type": "markdown",
   "metadata": {},
   "source": [
    "### Creating and Manipulating Thermostat Fan"
   ]
  },
  {
   "cell_type": "code",
   "execution_count": 29,
   "metadata": {},
   "outputs": [
    {
     "name": "stdout",
     "output_type": "stream",
     "text": [
      "auto_comfort Property auto_comfort: True [API value: 1]\n",
      "auto_switch_mode 1\n",
      "cooling_setpoint 50\n",
      "current_scenario ThermostatScenarioType.HOME\n",
      "fan_mode ThermostatFanMode.AUTO\n",
      "heating_setpoint 70\n",
      "humidity 42\n",
      "mac CO_EA1_31304635103637394a416a4b\n",
      "nickname Living Room\n",
      "push_switch 1\n",
      "ssid Linksys40\n",
      "system_mode ThermostatSystemMode.OFF\n",
      "temperature 69.7\n",
      "type Thermostat\n",
      "working_state idle\n"
     ]
    }
   ],
   "source": [
    "thermostat = client.thermostats.info(device_mac=dlist[\"LivingRoom\"])\n",
    "attributes = thermostat.get_non_null_attributes()\n",
    "for item in attributes:\n",
    "    print(item,attributes[item])"
   ]
  },
  {
   "cell_type": "code",
   "execution_count": 34,
   "metadata": {},
   "outputs": [
    {
     "name": "stdout",
     "output_type": "stream",
     "text": [
      "ThermostatFanMode.AUTO\n",
      "ThermostatFanMode.AUTO\n"
     ]
    }
   ],
   "source": [
    "old_fan_setting = thermostat.fan_mode\n",
    "client.thermostats.set_fan_mode(device_mac=thermostat.mac,device_model=thermostat.product.model,fan_mode=ThermostatFanMode.ON)\n",
    "print(thermostat.fan_mode)\n",
    "time.sleep(30)\n",
    "client.thermostats.set_fan_mode(device_mac=thermostat.mac,device_model=thermostat.product.model,fan_mode=old_fan_setting)\n",
    "print(thermostat.fan_mode)"
   ]
  }
 ],
 "metadata": {
  "kernelspec": {
   "display_name": ".venv",
   "language": "python",
   "name": "python3"
  },
  "language_info": {
   "codemirror_mode": {
    "name": "ipython",
    "version": 3
   },
   "file_extension": ".py",
   "mimetype": "text/x-python",
   "name": "python",
   "nbconvert_exporter": "python",
   "pygments_lexer": "ipython3",
   "version": "3.11.4"
  },
  "orig_nbformat": 4
 },
 "nbformat": 4,
 "nbformat_minor": 2
}
