{
 "cells": [
  {
   "cell_type": "markdown",
   "metadata": {},
   "source": [
    "# learning wyze client sdk\n",
    "\n",
    "### set up the client\n",
    "\n",
    "prerequisite: set up an API key as described in [Creating an API Key by Wyze Support](https://support.wyze.com/hc/en-us/articles/16129834216731)"
   ]
  },
  {
   "cell_type": "code",
   "execution_count": 3,
   "metadata": {},
   "outputs": [],
   "source": [
    "import os\n",
    "from wyze_sdk import Client"
   ]
  },
  {
   "cell_type": "markdown",
   "metadata": {},
   "source": [
    "first, login using empty client to obtain access and refresh tokens as login w/ only api key + key id is rate limited.\n",
    "access token good for 2 days. generated w/ refresh token after first login.\n",
    "refresh token good for 30 days. generated w/ tokenless login"
   ]
  },
  {
   "cell_type": "code",
   "execution_count": 4,
   "metadata": {},
   "outputs": [
    {
     "name": "stdout",
     "output_type": "stream",
     "text": [
      "access token: lvtx.ImVzBvB78yD6gI86ph0ircW9isAezINfq6bZVWNYc+EF4TJKVzxyyfioyeAufePE393hoaTNa/m0Wx0e/MofuIAlyebEFhtWCWnGey8As+b0igrNag8/BTb7ZS5XPIFKzaK6waP+LR2SYmwijssyNjjWptIRM2LwpOwLMKVnxutg/dKrAC6Uuegh1qQruVHTQEyeZA==\n",
      "refresh token: lvtx.Rn9lUE40AwSRv71/2ty++S8gRoLvNCPzlY3lGonoAENyFe5D8BjPS/1qUxOyHEXCbBdQMuga8PmT9OA00c41bBe7Jsbnt+IMZFxjW0u2FNaFqR+ONlZr1BpTU0CA/iEJc4aL+ifb/22Fa/Lo9reQmEFCPcj5RyQsuFOSRTgtEUGAXYevH1AO4q7u69VuQXGgjJ2CmA==\n"
     ]
    }
   ],
   "source": [
    "response = Client().login(email=os.getenv('WYZE_EMAIL'), password=os.getenv('WYZE_PASSWORD'),key_id=os.getenv('WYZE_API_KEY_ID'), api_key=os.getenv('WYZE_API_KEY'))\n",
    "print(f\"access token: {response['access_token']}\")\n",
    "print(f\"refresh token: {response['refresh_token']}\")\n",
    "os.environ[\"WYZE_ACCESS_TOKEN\"] = f\"{response['access_token']}\"\n",
    "os.environ[\"WYZE_REFRESH_TOKEN\"] = f\"{response['refresh_token']}\""
   ]
  },
  {
   "cell_type": "code",
   "execution_count": null,
   "metadata": {},
   "outputs": [],
   "source": [
    "client = Client(\n",
    "    token=os.getenv('WYZE_ACCESS_TOKEN'),\n",
    "    refresh_token=os.getenv('WYZE_REFRESH_TOKEN'),\n",
    "    email=os.getenv('WYZE_EMAIL'), \n",
    "    password=os.getenv('WYZE_PASSWORD'), \n",
    "    key_id=os.getenv('WYZE_API_KEY_ID'),\n",
    "    api_key=os.getenv('WYZE_API_KEY'))"
   ]
  },
  {
   "cell_type": "markdown",
   "metadata": {},
   "source": [
    "### find info necessary to communicate with the lights"
   ]
  },
  {
   "cell_type": "code",
   "execution_count": null,
   "metadata": {},
   "outputs": [],
   "source": [
    "client.devices_list()"
   ]
  },
  {
   "cell_type": "code",
   "execution_count": null,
   "metadata": {},
   "outputs": [],
   "source": [
    "client.bulbs.info(device_mac=\"7C78B27E9A9E\")"
   ]
  },
  {
   "cell_type": "markdown",
   "metadata": {},
   "source": [
    "### do stuff with the lights"
   ]
  },
  {
   "cell_type": "code",
   "execution_count": null,
   "metadata": {},
   "outputs": [],
   "source": [
    "resp = client.bulbs.turn_off(device_mac=\"7C78B27E9A9E\", device_model=\"WLPA19C\")"
   ]
  },
  {
   "cell_type": "code",
   "execution_count": null,
   "metadata": {},
   "outputs": [],
   "source": [
    "resp.data"
   ]
  }
 ],
 "metadata": {
  "kernelspec": {
   "display_name": "venv",
   "language": "python",
   "name": "python3"
  },
  "language_info": {
   "codemirror_mode": {
    "name": "ipython",
    "version": 3
   },
   "file_extension": ".py",
   "mimetype": "text/x-python",
   "name": "python",
   "nbconvert_exporter": "python",
   "pygments_lexer": "ipython3",
   "version": "3.11.4"
  },
  "orig_nbformat": 4
 },
 "nbformat": 4,
 "nbformat_minor": 2
}
